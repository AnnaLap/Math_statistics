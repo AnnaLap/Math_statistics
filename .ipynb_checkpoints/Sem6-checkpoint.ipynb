{
 "cells": [
  {
   "cell_type": "markdown",
   "metadata": {},
   "source": [
    "# Теория вероятностей и математическая статистика\n",
    "## Cеминар 6"
   ]
  },
  {
   "cell_type": "markdown",
   "metadata": {},
   "source": [
    "### **Задача 1**.  Известно, что генеральная совокупность распределена нормально со средним квадратическим отклонением, равным 16. Найти доверительный интервал для оценки математического ожидания с надежностью 0.95, если выборочная средняя M = 80, а объем выборки n = 256."
   ]
  },
  {
   "cell_type": "code",
   "execution_count": 12,
   "metadata": {},
   "outputs": [
    {
     "name": "stdout",
     "output_type": "stream",
     "text": [
      "Границы доверительного интервала: (78.04; 81.96)\n"
     ]
    }
   ],
   "source": [
    "import scipy.stats as stats\n",
    "x = 80\n",
    "alpha = 0.05\n",
    "z = stats.norm.ppf(alpha/2)\n",
    "sko = 16\n",
    "n = 256\n",
    "p1 = x + z * (sko/n**(1/2))\n",
    "p2 = x - z * (sko/n**(1/2))\n",
    "print(f'Границы доверительного интервала: ({round(p1, 3)}; {round(p2,3)})')\n",
    "\n"
   ]
  },
  {
   "cell_type": "markdown",
   "metadata": {},
   "source": [
    "### **Задача 2**. В результате 10 независимых измерений некоторой величины X, выполненных с одинаковой точностью, получены опытные данные: 6.9, 6.1, 6.2, 6.8, 7.5, 6.3, 6.4, 6.9, 6.7, 6.1 Предполагая, что результаты измерений подчинены нормальному закону распределения вероятностей, оценить истинное значение величины X при помощи доверительного интервала, покрывающего это значение с доверительной вероятностью 0,95."
   ]
  },
  {
   "cell_type": "code",
   "execution_count": 13,
   "metadata": {},
   "outputs": [
    {
     "name": "stdout",
     "output_type": "stream",
     "text": [
      "Границы доверительного интервала: (6.309; 6.871)\n",
      "Истинное значение величины Х с вероятностью 95% лежит в интервале P(6.309<X<6.871) = 0.95\n"
     ]
    }
   ],
   "source": [
    "import numpy as np\n",
    "\n",
    "x = np.array([6.9, 6.1, 6.2, 6.8, 7.5, 6.3, 6.4, 6.9, 6.7, 6.1 ])\n",
    "average = np.mean(x)\n",
    "sko = np.std(x, ddof =1)\n",
    "alpha = 0.05\n",
    "t = stats.t.ppf(alpha/2, df=n-1)\n",
    "\n",
    "n = 10\n",
    "p1 = average + t * (sko/n**(1/2))\n",
    "p2 = average - t * (sko/n**(1/2))\n",
    "print(f'Границы доверительного интервала: ({round(p1, 3)}; {round(p2,3)})')\n",
    "print('Истинное значение величины Х с вероятностью 95% лежит в интервале P(6.309<X<6.871) = 0.95')"
   ]
  },
  {
   "cell_type": "markdown",
   "metadata": {},
   "source": [
    "### **Задача 3**. Рост дочерей 175, 167, 154, 174, 178, 148, 160, 167, 169, 170 Рост матерей 178, 165, 165, 173, 168, 155, 160, 164, 178, 175 Используя эти данные построить 95% доверительный интервал для разности среднего роста родителей и детей."
   ]
  },
  {
   "cell_type": "code",
   "execution_count": 16,
   "metadata": {},
   "outputs": [
    {
     "name": "stdout",
     "output_type": "stream",
     "text": [
      "Границы доверительного интервала: (-10.068; 6.268)\n",
      "В интервал попал 0, поэтому можно считать, что разницы между средним ростом родителей и детей нет\n"
     ]
    }
   ],
   "source": [
    "daugthers = np.array([175, 167, 154, 174, 178, 148, 160, 167, 169, 170])\n",
    "mothers = np.array([178, 165, 165, 173, 168, 155, 160, 164, 178, 175])\n",
    "n = 10\n",
    "average1 = np.mean(daugthers)\n",
    "average2 = np.mean(mothers)\n",
    "delta = average1 - average2\n",
    "alpha = 0.05\n",
    "d1 = np.var(daugthers, ddof=1)\n",
    "d2 = np.var(mothers, ddof=1)\n",
    "d = (d1 + d2)/2\n",
    "SE = (d/len(daugthers) + d/len(mothers))**(1/2)\n",
    "t = stats.t.ppf(alpha/2, df=2*(n-1))\n",
    "p1 = delta + t * SE\n",
    "p2 = delta - t * SE\n",
    "print(f'Границы доверительного интервала: ({round(p1, 3)}; {round(p2,3)})')\n",
    "print('В интервал попал 0, поэтому можно считать, что разницы между средним ростом родителей и детей нет')"
   ]
  }
 ],
 "metadata": {
  "kernelspec": {
   "display_name": "Python 3 (ipykernel)",
   "language": "python",
   "name": "python3"
  },
  "language_info": {
   "codemirror_mode": {
    "name": "ipython",
    "version": 3
   },
   "file_extension": ".py",
   "mimetype": "text/x-python",
   "name": "python",
   "nbconvert_exporter": "python",
   "pygments_lexer": "ipython3",
   "version": "3.9.13"
  },
  "vscode": {
   "interpreter": {
    "hash": "aee8b7b246df8f9039afb4144a1f6fd8d2ca17a180786b69acc140d282b71a49"
   }
  }
 },
 "nbformat": 4,
 "nbformat_minor": 2
}
