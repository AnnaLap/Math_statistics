{
 "cells": [
  {
   "cell_type": "markdown",
   "metadata": {},
   "source": [
    "# Теория вероятностей и математическая статистика\n",
    "## Cеминар 7"
   ]
  },
  {
   "cell_type": "markdown",
   "metadata": {},
   "source": [
    "### **Задача 1**.  Даны две независимые выборки. Не соблюдается условие нормальности x1=380,420, 290; y1=140,360,200,900. Сделайте вывод по результатам, полученным с помощью функции, имеются ли статистические различия между группами?"
   ]
  },
  {
   "cell_type": "code",
   "execution_count": 109,
   "metadata": {},
   "outputs": [
    {
     "data": {
      "text/plain": [
       "MannwhitneyuResult(statistic=8.0, pvalue=0.6285714285714286)"
      ]
     },
     "execution_count": 109,
     "metadata": {},
     "output_type": "execute_result"
    }
   ],
   "source": [
    "import numpy as np\n",
    "import scipy.stats as stats\n",
    "x = np.array([380,420,290])\n",
    "y = np.array([140,360,200,900])\n",
    "stats.mannwhitneyu(x,y)"
   ]
  },
  {
   "cell_type": "markdown",
   "metadata": {},
   "source": [
    "##### Гипотеза Н0 не отвергается при 5% значимости, т.к. p-value > alpha. Различий между группами нет"
   ]
  },
  {
   "cell_type": "markdown",
   "metadata": {},
   "source": [
    "### **Задача 2**.  Исследовалось влияние препарата на уровень давления пациентов. Сначала измерялось давление до приема препарата, потом через 10 минут и через 30 минут. Есть ли статистически значимые различия между измерениями давления? В выборках не соблюдается условие нормальности. 1е измерение до приема препарата: 150, 160, 165, 145, 155 2е измерение через 10 минут: 140, 155, 150, 130, 135 3е измерение через 30 минут: 130, 130, 120, 130, 125"
   ]
  },
  {
   "cell_type": "code",
   "execution_count": 110,
   "metadata": {},
   "outputs": [
    {
     "data": {
      "text/plain": [
       "FriedmanchisquareResult(statistic=9.578947368421062, pvalue=0.00831683351100441)"
      ]
     },
     "execution_count": 110,
     "metadata": {},
     "output_type": "execute_result"
    }
   ],
   "source": [
    "x1 = np.array([150, 160, 165, 145, 155])\n",
    "x2 = np.array([140, 155, 150, 130, 135])\n",
    "x3 = np.array([130, 130, 120, 130, 125])\n",
    "stats.friedmanchisquare(x1,x2,x3)"
   ]
  },
  {
   "cell_type": "markdown",
   "metadata": {},
   "source": [
    "##### Гипотеза Н0 отвергается при 5% значимости, т.к. p-value < alpha. Препарат действительно влияет на давление пациента"
   ]
  },
  {
   "cell_type": "markdown",
   "metadata": {},
   "source": [
    "### **Задача 3**. Сравните 1 и 2 е измерения, предполагая, что 3го измерения через 30 минут не было. Есть ли статистически значимые различия между измерениями давления?"
   ]
  },
  {
   "cell_type": "code",
   "execution_count": 111,
   "metadata": {},
   "outputs": [
    {
     "data": {
      "text/plain": [
       "WilcoxonResult(statistic=0.0, pvalue=0.0625)"
      ]
     },
     "execution_count": 111,
     "metadata": {},
     "output_type": "execute_result"
    }
   ],
   "source": [
    "x1 = np.array([150, 160, 165, 145, 155])\n",
    "x2 = np.array([140, 155, 150, 130, 135])\n",
    "stats.wilcoxon(x1, x2)\n"
   ]
  },
  {
   "cell_type": "markdown",
   "metadata": {},
   "source": [
    "##### Гипотеза Н0 не отвергается при 5% значимости, т.к. p-value > alpha. Препарат не влияет на давление пациента"
   ]
  },
  {
   "cell_type": "markdown",
   "metadata": {},
   "source": [
    "### **Задача 4**. Даны 3 группы учеников плавания. Не соблюдается условие нормальности. В 1 группе время на дистанцию 50 м составляют:56, 60, 62, 55, 71, 67, 59, 58, 64, 67 Вторая группа:57, 58, 69, 48, 72, 70, 68, 71, 50, 53 Третья группа: 57, 67, 49, 48, 47, 55, 66, 51, 54 Есть ли статистически значимые различия между группами?"
   ]
  },
  {
   "cell_type": "code",
   "execution_count": 112,
   "metadata": {},
   "outputs": [
    {
     "data": {
      "text/plain": [
       "KruskalResult(statistic=5.465564058257224, pvalue=0.0650380998590494)"
      ]
     },
     "execution_count": 112,
     "metadata": {},
     "output_type": "execute_result"
    }
   ],
   "source": [
    "x1 = np.array([56, 60, 62, 55, 71, 67, 59, 58, 64, 67])\n",
    "x2 = np.array([57, 58, 69, 48, 72, 70, 68, 71, 50, 53])\n",
    "x3 = np.array([57, 67, 49, 48, 47, 55, 66, 51, 54])\n",
    "stats.kruskal(x1, x2, x3)"
   ]
  },
  {
   "cell_type": "markdown",
   "metadata": {},
   "source": [
    "##### Гипотеза Н0 не отвергается при 5% значимости, т.к. p-value > alpha. Различий между группами нет"
   ]
  },
  {
   "cell_type": "markdown",
   "metadata": {},
   "source": [
    "### **Задача 5**. Заявляется, что партия изготавливается со средним арифметическим 2,5 см. Проверить данную гипотезу, если известно, что размеры изделий подчинены нормальному закону распределения. Объем выборки 10, уровень статистической значимости 5% 2.51, 2.35, 2.74, 2.56, 2.40, 2.36, 2.65, 2.7, 2.67, 2.34"
   ]
  },
  {
   "cell_type": "code",
   "execution_count": 113,
   "metadata": {},
   "outputs": [
    {
     "name": "stdout",
     "output_type": "stream",
     "text": [
      "t_н = 0.56306\n",
      "t_кр1 = -2.262\n",
      "t_кр2 = 2.262\n",
      "t_кр1 < t_н < t_kr2\n",
      "Гипотеза Н0 не отвергается при 5% значимости. Среднее арифметическое изделия 2.5см .\n"
     ]
    }
   ],
   "source": [
    "# H0: m = 2.5\n",
    "# H1: m != 2.5\n",
    "x = np.array([2.51, 2.35, 2.74, 2.56, 2.40, 2.36, 2.65, 2.7, 2.67, 2.34])\n",
    "n = 10\n",
    "alpha = 0.05\n",
    "m = 2.5\n",
    "m0 = np.mean(x)\n",
    "sko = np.std(x, ddof=1)\n",
    "t = (m0 - m)/(sko/(n**(1/2)))\n",
    "t_kr1 = stats.t.ppf(alpha/2, df= n-1)\n",
    "t_kr2 = stats.t.ppf(1-alpha/2, df= n-1)\n",
    "print(f't_н =', round(t, 5))\n",
    "print(f't_кр1 =', round(t_kr1, 3))\n",
    "print(f't_кр2 =', round(t_kr2, 3))\n",
    "print('t_кр1 < t_н < t_kr2')\n",
    "print('Гипотеза Н0 не отвергается при 5% значимости. Среднее арифметическое изделия 2.5см .')\n"
   ]
  }
 ],
 "metadata": {
  "kernelspec": {
   "display_name": "Python 3 (ipykernel)",
   "language": "python",
   "name": "python3"
  },
  "language_info": {
   "codemirror_mode": {
    "name": "ipython",
    "version": 3
   },
   "file_extension": ".py",
   "mimetype": "text/x-python",
   "name": "python",
   "nbconvert_exporter": "python",
   "pygments_lexer": "ipython3",
   "version": "3.11.1"
  },
  "vscode": {
   "interpreter": {
    "hash": "aee8b7b246df8f9039afb4144a1f6fd8d2ca17a180786b69acc140d282b71a49"
   }
  }
 },
 "nbformat": 4,
 "nbformat_minor": 2
}
