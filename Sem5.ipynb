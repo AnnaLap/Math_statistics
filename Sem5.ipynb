{
 "cells": [
  {
   "cell_type": "markdown",
   "metadata": {},
   "source": [
    "# Теория вероятностей и математическая статистика\n",
    "## Cеминар 5"
   ]
  },
  {
   "cell_type": "markdown",
   "metadata": {},
   "source": [
    "### **Задача 1**. Когда используется критерий Стьюдента, а когда Z –критерий?"
   ]
  },
  {
   "cell_type": "markdown",
   "metadata": {},
   "source": [
    "##### Если у нас известно среднее квадратичное отклонение для генеральной совокупности (что редкость), то мы используем *z-критерий* и распределение у нас нормальное. Если ско не известно, то пользуемся *критерием Стьюдента* для t распределения Стьюдента.  "
   ]
  },
  {
   "cell_type": "markdown",
   "metadata": {},
   "source": [
    "### **Задача 2**. Проведите тест гипотезы. Утверждается, что шарики для подшипников, изготовленные автоматическим станком, имеют средний диаметр 17 мм. Используя односторонний критерий с α=0,05, проверить эту гипотезу, если в выборке из n=100 шариков средний диаметр оказался равным 17.5 мм, а дисперсия известна и равна 4 кв. мм."
   ]
  },
  {
   "cell_type": "code",
   "execution_count": 1,
   "metadata": {},
   "outputs": [
    {
     "ename": "ModuleNotFoundError",
     "evalue": "No module named 'scipy'",
     "output_type": "error",
     "traceback": [
      "\u001b[0;31m---------------------------------------------------------------------------\u001b[0m",
      "\u001b[0;31mModuleNotFoundError\u001b[0m                       Traceback (most recent call last)",
      "Cell \u001b[0;32mIn[1], line 1\u001b[0m\n\u001b[0;32m----> 1\u001b[0m \u001b[38;5;28;01mimport\u001b[39;00m \u001b[38;5;21;01mscipy\u001b[39;00m\u001b[38;5;21;01m.\u001b[39;00m\u001b[38;5;21;01mstats\u001b[39;00m \u001b[38;5;28;01mas\u001b[39;00m \u001b[38;5;21;01mstats\u001b[39;00m\n\u001b[1;32m      2\u001b[0m \u001b[38;5;28;01mimport\u001b[39;00m \u001b[38;5;21;01mnumpy\u001b[39;00m \u001b[38;5;28;01mas\u001b[39;00m \u001b[38;5;21;01mnp\u001b[39;00m\n\u001b[1;32m      4\u001b[0m \u001b[38;5;66;03m# H0: m = 17\u001b[39;00m\n\u001b[1;32m      5\u001b[0m \u001b[38;5;66;03m# H1: m > 17\u001b[39;00m\n\u001b[1;32m      6\u001b[0m \u001b[38;5;66;03m# Используем z-критерий, т.к. известна дисперсия ген. совокупности\u001b[39;00m\n",
      "\u001b[0;31mModuleNotFoundError\u001b[0m: No module named 'scipy'"
     ]
    }
   ],
   "source": [
    "import scipy.stats as stats\n",
    "import numpy as np\n",
    "\n",
    "# H0: m = 17\n",
    "# H1: m > 17\n",
    "# Используем z-критерий, т.к. известна дисперсия ген. совокупности\n",
    "m = 17\n",
    "m0 = 17.5\n",
    "alpha = 0.05\n",
    "var = 4\n",
    "n = 100\n",
    "z = (m0 - m)/(var**(1/2)/n**(1/2))\n",
    "z_kr = stats.norm.ppf(1-alpha)\n",
    "\n",
    "print(f'z_н =', round(z, 5))\n",
    "print(f'z_кр =', round(z_kr, 3))\n",
    "print('z_кр < z_н')\n",
    "print('Гипотеза Н0 отвергается при 5% значимости. Средний диаметр подшипников больше 17 мм.   ')"
   ]
  },
  {
   "cell_type": "markdown",
   "metadata": {},
   "source": [
    "### **Задача 3**. Проведите тест гипотезы. Продавец утверждает, что средний вес пачки печенья составляет 200 г. Из партии извлечена выборка из 10 пачек. Вес каждой пачки составляет: 202, 203, 199, 197, 195, 201, 200, 204, 194, 190. Известно, что их веса распределены нормально. Верно ли утверждение продавца, если учитывать, что доверительная вероятность равна 99%? (Провести двусторонний тест.)"
   ]
  },
  {
   "cell_type": "code",
   "execution_count": null,
   "metadata": {},
   "outputs": [
    {
     "name": "stdout",
     "output_type": "stream",
     "text": [
      "t_н = -1.06511\n",
      "t_кр1 = -3.25\n",
      "t_кр2 = 3.25\n",
      "t_кр1 < t_н < t_kr2\n",
      "Гипотеза Н0 не отвергается при 1% значимости. Средний вес пачки печенья действительно 200г.\n"
     ]
    }
   ],
   "source": [
    "# Используем критерий Стьюдента, потому что не знаем ско\n",
    "# Н0: м = 200\n",
    "# Н1: м != 200\n",
    "import scipy.stats as stats\n",
    "mass = np.array([202, 203, 199, 197, 195, 201, 200, 204, 194, 190])\n",
    "alpha = 0.01\n",
    "n = 10\n",
    "m = 200\n",
    "t = (np.mean(mass) - m)/(np.std(mass, ddof=1)/(n**(1/2)))\n",
    "t_kr1 = stats.t.ppf(alpha/2, df= n-1)\n",
    "t_kr2 = stats.t.ppf(1-alpha/2, df= n-1)\n",
    "print(f't_н =', round(t, 5))\n",
    "print(f't_кр1 =', round(t_kr1, 3))\n",
    "print(f't_кр2 =', round(t_kr2, 3))\n",
    "print('t_кр1 < t_н < t_kr2')\n",
    "print('Гипотеза Н0 не отвергается при 1% значимости. Средний вес пачки печенья действительно 200г.')\n"
   ]
  },
  {
   "cell_type": "markdown",
   "metadata": {},
   "source": [
    "### **Задача 4**.  Есть ли статистически значимые различия в росте дочерей? Рост матерей 172, 177, 158, 170, 178,175, 164, 160, 169, 165. Рост взрослых дочерей: 173, 175, 162, 174, 175, 168, 155, 170, 160, 163"
   ]
  },
  {
   "cell_type": "code",
   "execution_count": null,
   "metadata": {},
   "outputs": [
    {
     "data": {
      "text/plain": [
       "Ttest_relResult(statistic=0.6648478531431979, pvalue=0.5228168632983574)"
      ]
     },
     "execution_count": 14,
     "metadata": {},
     "output_type": "execute_result"
    }
   ],
   "source": [
    "# Двухвыборочный тест с зависимыми выборками по критерию Стьюдента\n",
    "# H0: значимых различий нет\n",
    "# Н1: различия есть\n",
    "mothers = np.array([172, 177, 158, 170, 178,175, 164, 160, 169, 165])\n",
    "daughters = np.array([173, 175, 162, 174, 175, 168, 155, 170, 160, 163]) \n",
    "stats.ttest_rel(mothers, daughters)\n"
   ]
  },
  {
   "cell_type": "markdown",
   "metadata": {},
   "source": [
    "##### p-value < statistic, поэтому Н0 отвергается. Существуют статистически значимые различия в росте дочерей"
   ]
  }
 ],
 "metadata": {
  "kernelspec": {
   "display_name": "Python 3 (ipykernel)",
   "language": "python",
   "name": "python3"
  },
  "language_info": {
   "codemirror_mode": {
    "name": "ipython",
    "version": 3
   },
   "file_extension": ".py",
   "mimetype": "text/x-python",
   "name": "python",
   "nbconvert_exporter": "python",
   "pygments_lexer": "ipython3",
   "version": "3.11.1"
  },
  "vscode": {
   "interpreter": {
    "hash": "aee8b7b246df8f9039afb4144a1f6fd8d2ca17a180786b69acc140d282b71a49"
   }
  }
 },
 "nbformat": 4,
 "nbformat_minor": 2
}
